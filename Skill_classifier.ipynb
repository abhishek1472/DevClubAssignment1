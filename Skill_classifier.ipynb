{
  "nbformat": 4,
  "nbformat_minor": 0,
  "metadata": {
    "colab": {
      "name": "Skill_classifier.ipynb",
      "provenance": [],
      "collapsed_sections": [],
      "authorship_tag": "ABX9TyP4rwt6RdCcQx3YqbA8JN+V",
      "include_colab_link": true
    },
    "kernelspec": {
      "name": "python3",
      "display_name": "Python 3"
    }
  },
  "cells": [
    {
      "cell_type": "markdown",
      "metadata": {
        "id": "view-in-github",
        "colab_type": "text"
      },
      "source": [
        "<a href=\"https://colab.research.google.com/github/abhishek1472/DevClubAssignment1/blob/master/Skill_classifier.ipynb\" target=\"_parent\"><img src=\"https://colab.research.google.com/assets/colab-badge.svg\" alt=\"Open In Colab\"/></a>"
      ]
    },
    {
      "cell_type": "code",
      "metadata": {
        "colab": {
          "resources": {
            "http://localhost:8080/nbextensions/google.colab/files.js": {
              "data": "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",
              "ok": true,
              "headers": [
                [
                  "content-type",
                  "application/javascript"
                ]
              ],
              "status": 200,
              "status_text": ""
            }
          },
          "base_uri": "https://localhost:8080/",
          "height": 74
        },
        "id": "w1YaeA1kBhSE",
        "outputId": "cadcba27-9784-41a8-a256-b954ce3bc23f"
      },
      "source": [
        "from google.colab import files\n",
        "upload=files.upload()"
      ],
      "execution_count": null,
      "outputs": [
        {
          "output_type": "display_data",
          "data": {
            "text/html": [
              "\n",
              "     <input type=\"file\" id=\"files-4c4da122-8777-4c18-a6c5-807a76df0291\" name=\"files[]\" multiple disabled\n",
              "        style=\"border:none\" />\n",
              "     <output id=\"result-4c4da122-8777-4c18-a6c5-807a76df0291\">\n",
              "      Upload widget is only available when the cell has been executed in the\n",
              "      current browser session. Please rerun this cell to enable.\n",
              "      </output>\n",
              "      <script src=\"/nbextensions/google.colab/files.js\"></script> "
            ],
            "text/plain": [
              "<IPython.core.display.HTML object>"
            ]
          },
          "metadata": {
            "tags": []
          }
        },
        {
          "output_type": "stream",
          "text": [
            "Saving train-data.csv to train-data.csv\n"
          ],
          "name": "stdout"
        }
      ]
    },
    {
      "cell_type": "code",
      "metadata": {
        "colab": {
          "base_uri": "https://localhost:8080/"
        },
        "id": "ZfAn808NMtfE",
        "outputId": "78fe2c5c-11a1-4cf9-989c-5f163da6b8d8"
      },
      "source": [
        "import numpy as np\n",
        "import pandas as pd\n",
        "datainput = pd.read_csv('train-data.csv')\n",
        "data=datainput[datainput['auto_label'].isin([1,2])]\n",
        "print(data)"
      ],
      "execution_count": null,
      "outputs": [
        {
          "output_type": "stream",
          "text": [
            "      skill_id                                         skill_name  auto_label\n",
            "0            1                                     able to listen         2.0\n",
            "1            2                                    accept feedback         2.0\n",
            "2            3                                          adaptable         2.0\n",
            "3            4                                     artistic sense         2.0\n",
            "4            5                                          assertive         2.0\n",
            "...        ...                                                ...         ...\n",
            "86112    91504                 developing full-stack applications         1.0\n",
            "86124    91702                                            onenote         1.0\n",
            "86125    91949  cctv and voice infrastructure includince telep...         1.0\n",
            "86126    92183   able to stand for long hours in cold environment         1.0\n",
            "86127    92185                                 customer awareness         1.0\n",
            "\n",
            "[15541 rows x 3 columns]\n"
          ],
          "name": "stdout"
        }
      ]
    },
    {
      "cell_type": "code",
      "metadata": {
        "id": "7iz6w8p5mGc3"
      },
      "source": [
        "data_arr=data.values\n",
        "np.random.shuffle(data_arr)"
      ],
      "execution_count": null,
      "outputs": []
    },
    {
      "cell_type": "code",
      "metadata": {
        "colab": {
          "base_uri": "https://localhost:8080/"
        },
        "id": "H57EWuN1PQhk",
        "outputId": "24e716c5-590b-4b97-b8d8-477e7700b281"
      },
      "source": [
        "skills=data_arr[:,1]\n",
        "labels=data_arr[:,2].astype('float64')\n",
        "for i in range(len(skills)):\n",
        "  skills[i]=str(skills[i])\n",
        "print(skills.shape)"
      ],
      "execution_count": null,
      "outputs": [
        {
          "output_type": "stream",
          "text": [
            "(15541,)\n"
          ],
          "name": "stdout"
        }
      ]
    },
    {
      "cell_type": "code",
      "metadata": {
        "id": "HbNWJKyS1k7L"
      },
      "source": [
        "\n",
        "# from keras.models import Sequential\n",
        "# from keras.layers.experimental.preprocessing import TextVectorization\n",
        "# vectorize_layer=TextVectorization(output_mode='tf-idf')\n",
        "# vectorize_layer.adapt(skills)"
      ],
      "execution_count": null,
      "outputs": []
    },
    {
      "cell_type": "code",
      "metadata": {
        "id": "BQtX5gReTEXe"
      },
      "source": [
        "from sklearn.feature_extraction.text import TfidfVectorizer\r\n",
        "tf_idf_vectorizor = TfidfVectorizer(stop_words = 'english',max_features = 20000,ngram_range=(1, 1))\r\n",
        "vectorizer=tf_idf_vectorizor.fit_transform(skills)"
      ],
      "execution_count": null,
      "outputs": []
    },
    {
      "cell_type": "code",
      "metadata": {
        "colab": {
          "base_uri": "https://localhost:8080/"
        },
        "id": "_wXo85ks8Aoa",
        "outputId": "e9edb925-2cf8-4785-ddb6-a55448bd9f19"
      },
      "source": [
        "from keras.preprocessing.text import Tokenizer\n",
        "t=Tokenizer()\n",
        "t.fit_on_texts(skills)\n",
        "vectorizer=t.texts_to_matrix(skills,mode='tfidf')\n",
        "print(vectorizer.shape)"
      ],
      "execution_count": null,
      "outputs": [
        {
          "output_type": "stream",
          "text": [
            "(15541, 7523)\n"
          ],
          "name": "stdout"
        }
      ]
    },
    {
      "cell_type": "code",
      "metadata": {
        "id": "SS5S5WooZvLr"
      },
      "source": [
        "from sklearn.preprocessing import normalize\n",
        "from sklearn.decomposition import PCA\n",
        "vectorizer_norm = normalize(vectorizer)\n",
        "sklearn_pca = PCA(n_components = 500)\n",
        "Y_sklearn = sklearn_pca.fit_transform(vectorizer_norm)"
      ],
      "execution_count": null,
      "outputs": []
    },
    {
      "cell_type": "code",
      "metadata": {
        "id": "sxKeOUSU3GIb"
      },
      "source": [
        "# from keras.models import Sequential\n",
        "# from keras.layers import Dense\n",
        "# from keras.wrappers.scikit_learn import KerasClassifier\n",
        "# from sklearn.model_selection import cross_val_score\n",
        "# from sklearn.preprocessing import LabelEncoder\n",
        "# from sklearn.model_selection import StratifiedKFold\n",
        "# X=Y_sklearn[:2000]\n",
        "# Y=labels-1\n",
        "# Y=Y[:2000]\n",
        "# def create_model():\n",
        "#   model=Sequential()\n",
        "#   model.add(Dense(64,input_dim=X.shape[1],activation='relu'))\n",
        "#   model.add(Dense(1,activation='sigmoid'))\n",
        "#   model.compile(loss='binary_crossentropy', optimizer='adam', metrics=['accuracy'])\n",
        "#   return model\n",
        "# estimator = KerasClassifier(build_fn=create_model, epochs=100, batch_size=5, verbose=0)\n",
        "# kfold = StratifiedKFold(n_splits=10, shuffle=True)\n",
        "# results = cross_val_score(estimator, X, Y, cv=kfold)\n",
        "# print(\"Baseline: %.2f%% (%.2f%%)\" % (results.mean()*100, results.std()*100))"
      ],
      "execution_count": null,
      "outputs": []
    },
    {
      "cell_type": "code",
      "metadata": {
        "colab": {
          "base_uri": "https://localhost:8080/"
        },
        "id": "Co4EQ-TDa3vr",
        "outputId": "8d4b0b1d-1cc5-490d-b20a-8d1f9cf8094c"
      },
      "source": [
        "X_train=Y_sklearn[:12500]\n",
        "X_val=Y_sklearn[12500:]\n",
        "Y_train=labels[:12500]-1\n",
        "Y_val=labels[12500:]-1\n",
        "print(type(X_train))\n",
        "print(Y_val)"
      ],
      "execution_count": null,
      "outputs": [
        {
          "output_type": "stream",
          "text": [
            "<class 'numpy.ndarray'>\n",
            "[0. 0. 1. ... 0. 0. 0.]\n"
          ],
          "name": "stdout"
        }
      ]
    },
    {
      "cell_type": "code",
      "metadata": {
        "colab": {
          "base_uri": "https://localhost:8080/"
        },
        "id": "4rRnuBr6JQhT",
        "outputId": "02edd1d8-8e49-48e7-81b1-ad15f70cf56d"
      },
      "source": [
        "from keras.models import Sequential\n",
        "from keras.layers import Dense\n",
        "model1=Sequential()\n",
        "model1.add(Dense(64,input_dim=X_train.shape[1],activation='relu'))\n",
        "model1.add(Dense(1,activation='sigmoid'))\n",
        "model1.compile(loss='binary_crossentropy', optimizer='adam', metrics=['accuracy'])\n",
        "history = model1.fit(X_train, Y_train,batch_size=200,epochs=100,verbose=1,\n",
        "                    validation_data=(X_val,Y_val))\n"
      ],
      "execution_count": null,
      "outputs": [
        {
          "output_type": "stream",
          "text": [
            "Epoch 1/100\n",
            "63/63 [==============================] - 1s 9ms/step - loss: 0.6394 - accuracy: 0.8792 - val_loss: 0.4634 - val_accuracy: 0.9648\n",
            "Epoch 2/100\n",
            "63/63 [==============================] - 0s 3ms/step - loss: 0.4056 - accuracy: 0.9612 - val_loss: 0.2476 - val_accuracy: 0.9658\n",
            "Epoch 3/100\n",
            "63/63 [==============================] - 0s 3ms/step - loss: 0.2202 - accuracy: 0.9614 - val_loss: 0.1415 - val_accuracy: 0.9697\n",
            "Epoch 4/100\n",
            "63/63 [==============================] - 0s 4ms/step - loss: 0.1338 - accuracy: 0.9691 - val_loss: 0.0988 - val_accuracy: 0.9783\n",
            "Epoch 5/100\n",
            "63/63 [==============================] - 0s 3ms/step - loss: 0.1015 - accuracy: 0.9754 - val_loss: 0.0791 - val_accuracy: 0.9819\n",
            "Epoch 6/100\n",
            "63/63 [==============================] - 0s 3ms/step - loss: 0.0824 - accuracy: 0.9821 - val_loss: 0.0691 - val_accuracy: 0.9836\n",
            "Epoch 7/100\n",
            "63/63 [==============================] - 0s 3ms/step - loss: 0.0814 - accuracy: 0.9813 - val_loss: 0.0640 - val_accuracy: 0.9845\n",
            "Epoch 8/100\n",
            "63/63 [==============================] - 0s 3ms/step - loss: 0.0719 - accuracy: 0.9820 - val_loss: 0.0614 - val_accuracy: 0.9842\n",
            "Epoch 9/100\n",
            "63/63 [==============================] - 0s 3ms/step - loss: 0.0680 - accuracy: 0.9839 - val_loss: 0.0598 - val_accuracy: 0.9859\n",
            "Epoch 10/100\n",
            "63/63 [==============================] - 0s 3ms/step - loss: 0.0649 - accuracy: 0.9848 - val_loss: 0.0588 - val_accuracy: 0.9855\n",
            "Epoch 11/100\n",
            "63/63 [==============================] - 0s 3ms/step - loss: 0.0624 - accuracy: 0.9849 - val_loss: 0.0583 - val_accuracy: 0.9855\n",
            "Epoch 12/100\n",
            "63/63 [==============================] - 0s 3ms/step - loss: 0.0644 - accuracy: 0.9834 - val_loss: 0.0579 - val_accuracy: 0.9852\n",
            "Epoch 13/100\n",
            "63/63 [==============================] - 0s 3ms/step - loss: 0.0675 - accuracy: 0.9841 - val_loss: 0.0577 - val_accuracy: 0.9852\n",
            "Epoch 14/100\n",
            "63/63 [==============================] - 0s 3ms/step - loss: 0.0629 - accuracy: 0.9847 - val_loss: 0.0576 - val_accuracy: 0.9852\n",
            "Epoch 15/100\n",
            "63/63 [==============================] - 0s 3ms/step - loss: 0.0698 - accuracy: 0.9832 - val_loss: 0.0574 - val_accuracy: 0.9855\n",
            "Epoch 16/100\n",
            "63/63 [==============================] - 0s 3ms/step - loss: 0.0643 - accuracy: 0.9852 - val_loss: 0.0573 - val_accuracy: 0.9855\n",
            "Epoch 17/100\n",
            "63/63 [==============================] - 0s 3ms/step - loss: 0.0602 - accuracy: 0.9852 - val_loss: 0.0574 - val_accuracy: 0.9855\n",
            "Epoch 18/100\n",
            "63/63 [==============================] - 0s 3ms/step - loss: 0.0577 - accuracy: 0.9866 - val_loss: 0.0578 - val_accuracy: 0.9852\n",
            "Epoch 19/100\n",
            "63/63 [==============================] - 0s 3ms/step - loss: 0.0617 - accuracy: 0.9848 - val_loss: 0.0577 - val_accuracy: 0.9855\n",
            "Epoch 20/100\n",
            "63/63 [==============================] - 0s 3ms/step - loss: 0.0588 - accuracy: 0.9852 - val_loss: 0.0579 - val_accuracy: 0.9852\n",
            "Epoch 21/100\n",
            "63/63 [==============================] - 0s 3ms/step - loss: 0.0566 - accuracy: 0.9861 - val_loss: 0.0578 - val_accuracy: 0.9855\n",
            "Epoch 22/100\n",
            "63/63 [==============================] - 0s 3ms/step - loss: 0.0559 - accuracy: 0.9864 - val_loss: 0.0580 - val_accuracy: 0.9855\n",
            "Epoch 23/100\n",
            "63/63 [==============================] - 0s 3ms/step - loss: 0.0531 - accuracy: 0.9875 - val_loss: 0.0582 - val_accuracy: 0.9849\n",
            "Epoch 24/100\n",
            "63/63 [==============================] - 0s 3ms/step - loss: 0.0610 - accuracy: 0.9856 - val_loss: 0.0582 - val_accuracy: 0.9852\n",
            "Epoch 25/100\n",
            "63/63 [==============================] - 0s 3ms/step - loss: 0.0611 - accuracy: 0.9844 - val_loss: 0.0579 - val_accuracy: 0.9852\n",
            "Epoch 26/100\n",
            "63/63 [==============================] - 0s 3ms/step - loss: 0.0575 - accuracy: 0.9861 - val_loss: 0.0581 - val_accuracy: 0.9849\n",
            "Epoch 27/100\n",
            "63/63 [==============================] - 0s 3ms/step - loss: 0.0516 - accuracy: 0.9881 - val_loss: 0.0584 - val_accuracy: 0.9852\n",
            "Epoch 28/100\n",
            "63/63 [==============================] - 0s 3ms/step - loss: 0.0510 - accuracy: 0.9875 - val_loss: 0.0587 - val_accuracy: 0.9852\n",
            "Epoch 29/100\n",
            "63/63 [==============================] - 0s 3ms/step - loss: 0.0502 - accuracy: 0.9872 - val_loss: 0.0587 - val_accuracy: 0.9852\n",
            "Epoch 30/100\n",
            "63/63 [==============================] - 0s 3ms/step - loss: 0.0552 - accuracy: 0.9862 - val_loss: 0.0588 - val_accuracy: 0.9849\n",
            "Epoch 31/100\n",
            "63/63 [==============================] - 0s 3ms/step - loss: 0.0571 - accuracy: 0.9862 - val_loss: 0.0589 - val_accuracy: 0.9852\n",
            "Epoch 32/100\n",
            "63/63 [==============================] - 0s 3ms/step - loss: 0.0543 - accuracy: 0.9878 - val_loss: 0.0589 - val_accuracy: 0.9849\n",
            "Epoch 33/100\n",
            "63/63 [==============================] - 0s 3ms/step - loss: 0.0580 - accuracy: 0.9853 - val_loss: 0.0589 - val_accuracy: 0.9842\n",
            "Epoch 34/100\n",
            "63/63 [==============================] - 0s 3ms/step - loss: 0.0537 - accuracy: 0.9874 - val_loss: 0.0592 - val_accuracy: 0.9842\n",
            "Epoch 35/100\n",
            "63/63 [==============================] - 0s 3ms/step - loss: 0.0563 - accuracy: 0.9868 - val_loss: 0.0591 - val_accuracy: 0.9842\n",
            "Epoch 36/100\n",
            "63/63 [==============================] - 0s 3ms/step - loss: 0.0485 - accuracy: 0.9883 - val_loss: 0.0592 - val_accuracy: 0.9842\n",
            "Epoch 37/100\n",
            "63/63 [==============================] - 0s 3ms/step - loss: 0.0571 - accuracy: 0.9856 - val_loss: 0.0595 - val_accuracy: 0.9839\n",
            "Epoch 38/100\n",
            "63/63 [==============================] - 0s 3ms/step - loss: 0.0558 - accuracy: 0.9858 - val_loss: 0.0595 - val_accuracy: 0.9839\n",
            "Epoch 39/100\n",
            "63/63 [==============================] - 0s 3ms/step - loss: 0.0541 - accuracy: 0.9870 - val_loss: 0.0595 - val_accuracy: 0.9839\n",
            "Epoch 40/100\n",
            "63/63 [==============================] - 0s 3ms/step - loss: 0.0512 - accuracy: 0.9873 - val_loss: 0.0598 - val_accuracy: 0.9836\n",
            "Epoch 41/100\n",
            "63/63 [==============================] - 0s 3ms/step - loss: 0.0543 - accuracy: 0.9870 - val_loss: 0.0599 - val_accuracy: 0.9839\n",
            "Epoch 42/100\n",
            "63/63 [==============================] - 0s 3ms/step - loss: 0.0555 - accuracy: 0.9866 - val_loss: 0.0598 - val_accuracy: 0.9839\n",
            "Epoch 43/100\n",
            "63/63 [==============================] - 0s 3ms/step - loss: 0.0543 - accuracy: 0.9869 - val_loss: 0.0597 - val_accuracy: 0.9836\n",
            "Epoch 44/100\n",
            "63/63 [==============================] - 0s 3ms/step - loss: 0.0507 - accuracy: 0.9874 - val_loss: 0.0598 - val_accuracy: 0.9836\n",
            "Epoch 45/100\n",
            "63/63 [==============================] - 0s 3ms/step - loss: 0.0521 - accuracy: 0.9872 - val_loss: 0.0602 - val_accuracy: 0.9836\n",
            "Epoch 46/100\n",
            "63/63 [==============================] - 0s 3ms/step - loss: 0.0475 - accuracy: 0.9883 - val_loss: 0.0604 - val_accuracy: 0.9836\n",
            "Epoch 47/100\n",
            "63/63 [==============================] - 0s 5ms/step - loss: 0.0509 - accuracy: 0.9865 - val_loss: 0.0602 - val_accuracy: 0.9836\n",
            "Epoch 48/100\n",
            "63/63 [==============================] - 0s 3ms/step - loss: 0.0540 - accuracy: 0.9869 - val_loss: 0.0602 - val_accuracy: 0.9839\n",
            "Epoch 49/100\n",
            "63/63 [==============================] - 0s 3ms/step - loss: 0.0524 - accuracy: 0.9875 - val_loss: 0.0602 - val_accuracy: 0.9836\n",
            "Epoch 50/100\n",
            "63/63 [==============================] - 0s 3ms/step - loss: 0.0486 - accuracy: 0.9878 - val_loss: 0.0607 - val_accuracy: 0.9836\n",
            "Epoch 51/100\n",
            "63/63 [==============================] - 0s 3ms/step - loss: 0.0522 - accuracy: 0.9861 - val_loss: 0.0606 - val_accuracy: 0.9839\n",
            "Epoch 52/100\n",
            "63/63 [==============================] - 0s 3ms/step - loss: 0.0566 - accuracy: 0.9858 - val_loss: 0.0605 - val_accuracy: 0.9839\n",
            "Epoch 53/100\n",
            "63/63 [==============================] - 0s 3ms/step - loss: 0.0501 - accuracy: 0.9873 - val_loss: 0.0608 - val_accuracy: 0.9839\n",
            "Epoch 54/100\n",
            "63/63 [==============================] - 0s 3ms/step - loss: 0.0483 - accuracy: 0.9882 - val_loss: 0.0607 - val_accuracy: 0.9839\n",
            "Epoch 55/100\n",
            "63/63 [==============================] - 0s 3ms/step - loss: 0.0498 - accuracy: 0.9875 - val_loss: 0.0609 - val_accuracy: 0.9836\n",
            "Epoch 56/100\n",
            "63/63 [==============================] - 0s 3ms/step - loss: 0.0419 - accuracy: 0.9895 - val_loss: 0.0613 - val_accuracy: 0.9836\n",
            "Epoch 57/100\n",
            "63/63 [==============================] - 0s 3ms/step - loss: 0.0468 - accuracy: 0.9891 - val_loss: 0.0612 - val_accuracy: 0.9839\n",
            "Epoch 58/100\n",
            "63/63 [==============================] - 0s 3ms/step - loss: 0.0562 - accuracy: 0.9863 - val_loss: 0.0609 - val_accuracy: 0.9836\n",
            "Epoch 59/100\n",
            "63/63 [==============================] - 0s 3ms/step - loss: 0.0491 - accuracy: 0.9873 - val_loss: 0.0612 - val_accuracy: 0.9836\n",
            "Epoch 60/100\n",
            "63/63 [==============================] - 0s 3ms/step - loss: 0.0554 - accuracy: 0.9867 - val_loss: 0.0615 - val_accuracy: 0.9836\n",
            "Epoch 61/100\n",
            "63/63 [==============================] - 0s 3ms/step - loss: 0.0456 - accuracy: 0.9877 - val_loss: 0.0616 - val_accuracy: 0.9836\n",
            "Epoch 62/100\n",
            "63/63 [==============================] - 0s 3ms/step - loss: 0.0504 - accuracy: 0.9874 - val_loss: 0.0616 - val_accuracy: 0.9832\n",
            "Epoch 63/100\n",
            "63/63 [==============================] - 0s 3ms/step - loss: 0.0502 - accuracy: 0.9873 - val_loss: 0.0617 - val_accuracy: 0.9829\n",
            "Epoch 64/100\n",
            "63/63 [==============================] - 0s 3ms/step - loss: 0.0462 - accuracy: 0.9881 - val_loss: 0.0619 - val_accuracy: 0.9829\n",
            "Epoch 65/100\n",
            "63/63 [==============================] - 0s 3ms/step - loss: 0.0499 - accuracy: 0.9870 - val_loss: 0.0617 - val_accuracy: 0.9829\n",
            "Epoch 66/100\n",
            "63/63 [==============================] - 0s 3ms/step - loss: 0.0455 - accuracy: 0.9880 - val_loss: 0.0621 - val_accuracy: 0.9829\n",
            "Epoch 67/100\n",
            "63/63 [==============================] - 0s 3ms/step - loss: 0.0441 - accuracy: 0.9890 - val_loss: 0.0624 - val_accuracy: 0.9839\n",
            "Epoch 68/100\n",
            "63/63 [==============================] - 0s 3ms/step - loss: 0.0444 - accuracy: 0.9889 - val_loss: 0.0625 - val_accuracy: 0.9836\n",
            "Epoch 69/100\n",
            "63/63 [==============================] - 0s 3ms/step - loss: 0.0480 - accuracy: 0.9875 - val_loss: 0.0623 - val_accuracy: 0.9832\n",
            "Epoch 70/100\n",
            "63/63 [==============================] - 0s 3ms/step - loss: 0.0447 - accuracy: 0.9885 - val_loss: 0.0626 - val_accuracy: 0.9832\n",
            "Epoch 71/100\n",
            "63/63 [==============================] - 0s 3ms/step - loss: 0.0501 - accuracy: 0.9869 - val_loss: 0.0623 - val_accuracy: 0.9832\n",
            "Epoch 72/100\n",
            "63/63 [==============================] - 0s 3ms/step - loss: 0.0465 - accuracy: 0.9885 - val_loss: 0.0624 - val_accuracy: 0.9829\n",
            "Epoch 73/100\n",
            "63/63 [==============================] - 0s 3ms/step - loss: 0.0469 - accuracy: 0.9885 - val_loss: 0.0630 - val_accuracy: 0.9829\n",
            "Epoch 74/100\n",
            "63/63 [==============================] - 0s 3ms/step - loss: 0.0553 - accuracy: 0.9864 - val_loss: 0.0628 - val_accuracy: 0.9832\n",
            "Epoch 75/100\n",
            "63/63 [==============================] - 0s 3ms/step - loss: 0.0482 - accuracy: 0.9879 - val_loss: 0.0628 - val_accuracy: 0.9832\n",
            "Epoch 76/100\n",
            "63/63 [==============================] - 0s 3ms/step - loss: 0.0437 - accuracy: 0.9881 - val_loss: 0.0629 - val_accuracy: 0.9832\n",
            "Epoch 77/100\n",
            "63/63 [==============================] - 0s 3ms/step - loss: 0.0457 - accuracy: 0.9892 - val_loss: 0.0631 - val_accuracy: 0.9826\n",
            "Epoch 78/100\n",
            "63/63 [==============================] - 0s 3ms/step - loss: 0.0435 - accuracy: 0.9898 - val_loss: 0.0634 - val_accuracy: 0.9829\n",
            "Epoch 79/100\n",
            "63/63 [==============================] - 0s 3ms/step - loss: 0.0469 - accuracy: 0.9886 - val_loss: 0.0634 - val_accuracy: 0.9829\n",
            "Epoch 80/100\n",
            "63/63 [==============================] - 0s 3ms/step - loss: 0.0442 - accuracy: 0.9878 - val_loss: 0.0634 - val_accuracy: 0.9832\n",
            "Epoch 81/100\n",
            "63/63 [==============================] - 0s 3ms/step - loss: 0.0465 - accuracy: 0.9882 - val_loss: 0.0637 - val_accuracy: 0.9826\n",
            "Epoch 82/100\n",
            "63/63 [==============================] - 0s 3ms/step - loss: 0.0436 - accuracy: 0.9888 - val_loss: 0.0636 - val_accuracy: 0.9829\n",
            "Epoch 83/100\n",
            "63/63 [==============================] - 0s 3ms/step - loss: 0.0463 - accuracy: 0.9885 - val_loss: 0.0638 - val_accuracy: 0.9829\n",
            "Epoch 84/100\n",
            "63/63 [==============================] - 0s 3ms/step - loss: 0.0423 - accuracy: 0.9896 - val_loss: 0.0642 - val_accuracy: 0.9826\n",
            "Epoch 85/100\n",
            "63/63 [==============================] - 0s 3ms/step - loss: 0.0449 - accuracy: 0.9881 - val_loss: 0.0641 - val_accuracy: 0.9826\n",
            "Epoch 86/100\n",
            "63/63 [==============================] - 0s 3ms/step - loss: 0.0430 - accuracy: 0.9896 - val_loss: 0.0645 - val_accuracy: 0.9829\n",
            "Epoch 87/100\n",
            "63/63 [==============================] - 0s 3ms/step - loss: 0.0452 - accuracy: 0.9881 - val_loss: 0.0644 - val_accuracy: 0.9826\n",
            "Epoch 88/100\n",
            "63/63 [==============================] - 0s 3ms/step - loss: 0.0449 - accuracy: 0.9886 - val_loss: 0.0647 - val_accuracy: 0.9822\n",
            "Epoch 89/100\n",
            "63/63 [==============================] - 0s 3ms/step - loss: 0.0480 - accuracy: 0.9877 - val_loss: 0.0646 - val_accuracy: 0.9826\n",
            "Epoch 90/100\n",
            "63/63 [==============================] - 0s 3ms/step - loss: 0.0452 - accuracy: 0.9892 - val_loss: 0.0651 - val_accuracy: 0.9819\n",
            "Epoch 91/100\n",
            "63/63 [==============================] - 0s 3ms/step - loss: 0.0445 - accuracy: 0.9876 - val_loss: 0.0648 - val_accuracy: 0.9822\n",
            "Epoch 92/100\n",
            "63/63 [==============================] - 0s 3ms/step - loss: 0.0483 - accuracy: 0.9877 - val_loss: 0.0650 - val_accuracy: 0.9826\n",
            "Epoch 93/100\n",
            "63/63 [==============================] - 0s 3ms/step - loss: 0.0426 - accuracy: 0.9900 - val_loss: 0.0651 - val_accuracy: 0.9819\n",
            "Epoch 94/100\n",
            "63/63 [==============================] - 0s 3ms/step - loss: 0.0403 - accuracy: 0.9901 - val_loss: 0.0653 - val_accuracy: 0.9819\n",
            "Epoch 95/100\n",
            "63/63 [==============================] - 0s 3ms/step - loss: 0.0416 - accuracy: 0.9899 - val_loss: 0.0657 - val_accuracy: 0.9822\n",
            "Epoch 96/100\n",
            "63/63 [==============================] - 0s 3ms/step - loss: 0.0462 - accuracy: 0.9891 - val_loss: 0.0659 - val_accuracy: 0.9819\n",
            "Epoch 97/100\n",
            "63/63 [==============================] - 0s 3ms/step - loss: 0.0421 - accuracy: 0.9893 - val_loss: 0.0656 - val_accuracy: 0.9819\n",
            "Epoch 98/100\n",
            "63/63 [==============================] - 0s 5ms/step - loss: 0.0471 - accuracy: 0.9883 - val_loss: 0.0656 - val_accuracy: 0.9819\n",
            "Epoch 99/100\n",
            "63/63 [==============================] - 0s 3ms/step - loss: 0.0471 - accuracy: 0.9869 - val_loss: 0.0658 - val_accuracy: 0.9819\n",
            "Epoch 100/100\n",
            "63/63 [==============================] - 0s 3ms/step - loss: 0.0416 - accuracy: 0.9893 - val_loss: 0.0662 - val_accuracy: 0.9819\n"
          ],
          "name": "stdout"
        }
      ]
    },
    {
      "cell_type": "code",
      "metadata": {
        "colab": {
          "base_uri": "https://localhost:8080/"
        },
        "id": "L5s7mFiEbe5n",
        "outputId": "26020749-a0e2-40ac-a8da-80225de0bbe6"
      },
      "source": [
        "s=[\"diversity awareness\"]\n",
        "v=t.texts_to_matrix(s,mode='tfidf')\n",
        "v_norm = normalize(v)\n",
        "v_pca = sklearn_pca.transform(v_norm)\n",
        "y=model1.predict_classes(v_pca)\n",
        "print(y)"
      ],
      "execution_count": null,
      "outputs": [
        {
          "output_type": "stream",
          "text": [
            "[[0]]\n"
          ],
          "name": "stdout"
        },
        {
          "output_type": "stream",
          "text": [
            "/usr/local/lib/python3.6/dist-packages/tensorflow/python/keras/engine/sequential.py:450: UserWarning: `model.predict_classes()` is deprecated and will be removed after 2021-01-01. Please use instead:* `np.argmax(model.predict(x), axis=-1)`,   if your model does multi-class classification   (e.g. if it uses a `softmax` last-layer activation).* `(model.predict(x) > 0.5).astype(\"int32\")`,   if your model does binary classification   (e.g. if it uses a `sigmoid` last-layer activation).\n",
            "  warnings.warn('`model.predict_classes()` is deprecated and '\n"
          ],
          "name": "stderr"
        }
      ]
    },
    {
      "cell_type": "code",
      "metadata": {
        "id": "zLqN75etyfPf"
      },
      "source": [
        "def predict(s):\n",
        "  v=t.texts_to_matrix(s,mode='tfidf')\n",
        "  v_norm = normalize(v)\n",
        "  v_pca = sklearn_pca.transform(v_norm)\n",
        "  y=model1.predict_classes(v_pca)\n",
        "  return y\n"
      ],
      "execution_count": null,
      "outputs": []
    }
  ]
}